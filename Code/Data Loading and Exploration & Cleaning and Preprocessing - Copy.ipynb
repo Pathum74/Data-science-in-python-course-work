{
 "cells": [
  {
   "cell_type": "markdown",
   "id": "8336d7c4-7c2a-4672-a599-37c34cd437b2",
   "metadata": {},
   "source": [
    "## Data Loading and Exploration:"
   ]
  },
  {
   "cell_type": "markdown",
   "id": "c7442d62-153b-4675-96e1-139265d6bfb7",
   "metadata": {},
   "source": [
    "##### Import and display first 5 rows in dataset"
   ]
  },
  {
   "cell_type": "code",
   "execution_count": 39,
   "id": "f7f0070b-26a4-4aa4-bf0f-27af1ef0f2b4",
   "metadata": {},
   "outputs": [
    {
     "name": "stdout",
     "output_type": "stream",
     "text": [
      "                ID  Gender       DOB Lead_Creation_Date City_Code  \\\n",
      "0  APPC90493171225  Female  23/07/79           15/07/16    C10001   \n",
      "1  APPD40611263344    Male  07/12/86           04/07/16    C10003   \n",
      "2  APPE70289249423    Male  10/12/82           19/07/16    C10125   \n",
      "3  APPF80273865537    Male  30/01/89           09/07/16    C10477   \n",
      "4  APPG60994436641    Male  19/04/85           20/07/16    C10002   \n",
      "\n",
      "  City_Category Employer_Code Employer_Category1  Employer_Category2  \\\n",
      "0             A    COM0044082                  A                 4.0   \n",
      "1             A    COM0000002                  C                 1.0   \n",
      "2             C    COM0005267                  C                 4.0   \n",
      "3             C    COM0004143                  A                 4.0   \n",
      "4             A    COM0001781                  A                 4.0   \n",
      "\n",
      "   Monthly_Income  ... Contacted Source Source_Category Existing_EMI  \\\n",
      "0          2000.0  ...         N   S122               G          0.0   \n",
      "1          3500.0  ...         Y   S122               G          0.0   \n",
      "2          2250.0  ...         Y   S143               B          0.0   \n",
      "3          3500.0  ...         Y   S143               B          0.0   \n",
      "4         10000.0  ...         Y   S134               B       2500.0   \n",
      "\n",
      "  Loan_Amount  Loan_Period  Interest_Rate    EMI  Var1  Approved  \n",
      "0         NaN          NaN            NaN    NaN     0         0  \n",
      "1     20000.0          2.0          13.25  953.0    10         0  \n",
      "2     45000.0          4.0            NaN    NaN     0         0  \n",
      "3     92000.0          5.0            NaN    NaN     7         0  \n",
      "4     50000.0          2.0            NaN    NaN    10         0  \n",
      "\n",
      "[5 rows x 22 columns]\n"
     ]
    }
   ],
   "source": [
    "import pandas as pd # use to data manipulation, analysis, processing\n",
    "from sklearn.preprocessing import LabelEncoder # convert categorical variables to numerical values\n",
    "\n",
    "data=pd.read_csv('train.csv')\n",
    "print(data.head()) # Display first 5 rows of dataset"
   ]
  },
  {
   "cell_type": "markdown",
   "id": "ea446e34-4af5-418d-b4ee-68b50f6f1301",
   "metadata": {},
   "source": [
    "##### Display last 5 rows in dataset"
   ]
  },
  {
   "cell_type": "code",
   "execution_count": 41,
   "id": "4609e861-afc9-4c74-acd3-2f02b52089d9",
   "metadata": {},
   "outputs": [
    {
     "name": "stdout",
     "output_type": "stream",
     "text": [
      "                    ID  Gender       DOB Lead_Creation_Date City_Code  \\\n",
      "69708  APPU90955789628  Female  31/07/83           30/09/16    C10006   \n",
      "69709  APPV80989824738  Female  27/01/71           30/09/16    C10116   \n",
      "69710  APPW50697209842  Female  01/02/92           30/09/16    C10022   \n",
      "69711  APPY50870035036    Male  27/06/78           30/09/16    C10002   \n",
      "69712  APPZ60733046119    Male  31/12/89           30/09/16    C10003   \n",
      "\n",
      "      City_Category Employer_Code Employer_Category1  Employer_Category2  \\\n",
      "69708             A    COM0000010                  A                 1.0   \n",
      "69709             C    COM0045789                  A                 4.0   \n",
      "69710             B    COM0013284                  C                 4.0   \n",
      "69711             A    COM0000098                  C                 3.0   \n",
      "69712             A    COM0000056                  A                 1.0   \n",
      "\n",
      "       Monthly_Income  ... Contacted Source Source_Category Existing_EMI  \\\n",
      "69708          4900.0  ...         N   S122               G          0.0   \n",
      "69709          7190.1  ...         N   S122               G       1450.0   \n",
      "69710          1600.0  ...         Y   S122               G          0.0   \n",
      "69711          9893.0  ...         Y   S122               G       1366.0   \n",
      "69712          4230.0  ...         Y   S122               G          0.0   \n",
      "\n",
      "      Loan_Amount  Loan_Period  Interest_Rate     EMI  Var1  Approved  \n",
      "69708         NaN          NaN            NaN     NaN    10         0  \n",
      "69709         NaN          NaN            NaN     NaN     7         0  \n",
      "69710     24000.0          4.0          35.50   943.0     2         0  \n",
      "69711     80000.0          5.0            NaN     NaN    10         0  \n",
      "69712     69000.0          4.0          13.99  1885.0    10         0  \n",
      "\n",
      "[5 rows x 22 columns]\n"
     ]
    }
   ],
   "source": [
    "print(data.tail()) # Display last 5 rows of dataset"
   ]
  },
  {
   "cell_type": "markdown",
   "id": "f18b4f24-cee7-43e9-869a-0b5d551e1014",
   "metadata": {},
   "source": [
    "##### Summary of data in dataset"
   ]
  },
  {
   "cell_type": "code",
   "execution_count": 43,
   "id": "c2f41e49-2aa6-4376-b06a-a2a52d8413bf",
   "metadata": {},
   "outputs": [
    {
     "name": "stdout",
     "output_type": "stream",
     "text": [
      "Summary:        Employer_Category2  Monthly_Income   Existing_EMI    Loan_Amount  \\\n",
      "count        65415.000000    6.971300e+04   69662.000000   42004.000000   \n",
      "mean             3.720187    5.622283e+03     360.928751   39429.982859   \n",
      "std              0.807374    1.747671e+05    2288.517927   30727.595990   \n",
      "min              1.000000    0.000000e+00       0.000000    5000.000000   \n",
      "25%              4.000000    1.650000e+03       0.000000   20000.000000   \n",
      "50%              4.000000    2.500000e+03       0.000000   30000.000000   \n",
      "75%              4.000000    4.000000e+03     350.000000   50000.000000   \n",
      "max              4.000000    3.838384e+07  545436.500000  300000.000000   \n",
      "\n",
      "        Loan_Period  Interest_Rate           EMI          Var1      Approved  \n",
      "count  42004.000000   22276.000000  22276.000000  69713.000000  69713.000000  \n",
      "mean       3.890629      19.213570   1101.466242      3.948446      0.014631  \n",
      "std        1.167491       5.847136    752.661394      3.819214      0.120073  \n",
      "min        1.000000      11.990000    118.000000      0.000000      0.000000  \n",
      "25%        3.000000      15.250000    649.000000      0.000000      0.000000  \n",
      "50%        4.000000      18.000000    941.000000      2.000000      0.000000  \n",
      "75%        5.000000      20.000000   1295.000000      7.000000      0.000000  \n",
      "max        6.000000      37.000000  13556.000000     10.000000      1.000000  \n"
     ]
    }
   ],
   "source": [
    "sum=data.describe() # Create Summary of dataset\n",
    "print(\"Summary:\",sum)"
   ]
  },
  {
   "cell_type": "markdown",
   "id": "2336dd51-cafa-47c2-9e5a-ffd022ab5c1a",
   "metadata": {},
   "source": [
    "##### Filter the data where the Monthly_Income is greater than 2500."
   ]
  },
  {
   "cell_type": "code",
   "execution_count": 45,
   "id": "d838474b-1b81-4e2b-a011-b8abcb4a6919",
   "metadata": {},
   "outputs": [
    {
     "name": "stdout",
     "output_type": "stream",
     "text": [
      "                ID  Gender       DOB Lead_Creation_Date City_Code  \\\n",
      "1  APPD40611263344    Male  07/12/86           04/07/16    C10003   \n",
      "3  APPF80273865537    Male  30/01/89           09/07/16    C10477   \n",
      "4  APPG60994436641    Male  19/04/85           20/07/16    C10002   \n",
      "5  APPI90914237819  Female  23/12/88           01/07/16    C10402   \n",
      "6  APPK80327232033    Male  28/03/73           02/07/16    C10022   \n",
      "\n",
      "  City_Category Employer_Code Employer_Category1  Employer_Category2  \\\n",
      "1             A    COM0000002                  C                 1.0   \n",
      "3             C    COM0004143                  A                 4.0   \n",
      "4             A    COM0001781                  A                 4.0   \n",
      "5             C    COM0007740                  A                 4.0   \n",
      "6             B    COM0030526                  B                 4.0   \n",
      "\n",
      "   Monthly_Income  ... Contacted Source Source_Category Existing_EMI  \\\n",
      "1          3500.0  ...         Y   S122               G          0.0   \n",
      "3          3500.0  ...         Y   S143               B          0.0   \n",
      "4         10000.0  ...         Y   S134               B       2500.0   \n",
      "5          7000.0  ...         N   S133               B          0.0   \n",
      "6          7500.0  ...         Y   S122               C          0.0   \n",
      "\n",
      "  Loan_Amount  Loan_Period  Interest_Rate     EMI  Var1  Approved  \n",
      "1     20000.0          2.0          13.25   953.0    10         0  \n",
      "3     92000.0          5.0            NaN     NaN     7         0  \n",
      "4     50000.0          2.0            NaN     NaN    10         0  \n",
      "5         NaN          NaN            NaN     NaN     0         0  \n",
      "6    130000.0          5.0          14.85  3082.0    10         0  \n",
      "\n",
      "[5 rows x 22 columns]\n"
     ]
    }
   ],
   "source": [
    "filtered_data = data[data['Monthly_Income'] > 2500] #  first 5 rows that Monthly_Income is higher than 2500\n",
    "print(filtered_data.head()) "
   ]
  }
 ],
 "metadata": {
  "kernelspec": {
   "display_name": "Python 3 (ipykernel)",
   "language": "python",
   "name": "python3"
  },
  "language_info": {
   "codemirror_mode": {
    "name": "ipython",
    "version": 3
   },
   "file_extension": ".py",
   "mimetype": "text/x-python",
   "name": "python",
   "nbconvert_exporter": "python",
   "pygments_lexer": "ipython3",
   "version": "3.12.4"
  }
 },
 "nbformat": 4,
 "nbformat_minor": 5
}
