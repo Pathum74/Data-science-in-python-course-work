{
 "cells": [
  {
   "cell_type": "markdown",
   "id": "cee33c1b-4966-49d3-ab8f-654e8e01ca9f",
   "metadata": {},
   "source": [
    "## Data Cleaning and Preprocessing:"
   ]
  },
  {
   "cell_type": "markdown",
   "id": "99648df4-7975-4fbc-bb4b-70922f6612a9",
   "metadata": {},
   "source": [
    "##### Import and display first 5 rows in dataset"
   ]
  },
  {
   "cell_type": "code",
   "execution_count": 29,
   "id": "53f7566d-13c6-4db5-84d0-9d92791f4067",
   "metadata": {},
   "outputs": [
    {
     "name": "stdout",
     "output_type": "stream",
     "text": [
      "                ID  Gender       DOB Lead_Creation_Date City_Code  \\\n",
      "0  APPC90493171225  Female  23/07/79           15/07/16    C10001   \n",
      "1  APPD40611263344    Male  07/12/86           04/07/16    C10003   \n",
      "2  APPE70289249423    Male  10/12/82           19/07/16    C10125   \n",
      "3  APPF80273865537    Male  30/01/89           09/07/16    C10477   \n",
      "4  APPG60994436641    Male  19/04/85           20/07/16    C10002   \n",
      "\n",
      "  City_Category Employer_Code Employer_Category1  Employer_Category2  \\\n",
      "0             A    COM0044082                  A                 4.0   \n",
      "1             A    COM0000002                  C                 1.0   \n",
      "2             C    COM0005267                  C                 4.0   \n",
      "3             C    COM0004143                  A                 4.0   \n",
      "4             A    COM0001781                  A                 4.0   \n",
      "\n",
      "   Monthly_Income  ... Contacted Source Source_Category Existing_EMI  \\\n",
      "0          2000.0  ...         N   S122               G          0.0   \n",
      "1          3500.0  ...         Y   S122               G          0.0   \n",
      "2          2250.0  ...         Y   S143               B          0.0   \n",
      "3          3500.0  ...         Y   S143               B          0.0   \n",
      "4         10000.0  ...         Y   S134               B       2500.0   \n",
      "\n",
      "  Loan_Amount  Loan_Period  Interest_Rate    EMI  Var1  Approved  \n",
      "0         NaN          NaN            NaN    NaN     0         0  \n",
      "1     20000.0          2.0          13.25  953.0    10         0  \n",
      "2     45000.0          4.0            NaN    NaN     0         0  \n",
      "3     92000.0          5.0            NaN    NaN     7         0  \n",
      "4     50000.0          2.0            NaN    NaN    10         0  \n",
      "\n",
      "[5 rows x 22 columns]\n"
     ]
    }
   ],
   "source": [
    "import pandas as pd # use to data manipulation, analysis, processing\n",
    "from sklearn.preprocessing import LabelEncoder # convert categorical variables to numerical values\n",
    "\n",
    "data=pd.read_csv('train.csv')\n",
    "print(data.head()) # Display first 5 rows of dataset"
   ]
  },
  {
   "cell_type": "markdown",
   "id": "be5ab441-2d86-4fd7-b8cf-3d9d4726270a",
   "metadata": {},
   "source": [
    "##### Check for missing values in each column and display the total count"
   ]
  },
  {
   "cell_type": "code",
   "execution_count": 31,
   "id": "148bfcc2-bab8-4713-9ed2-c98de4979eef",
   "metadata": {},
   "outputs": [
    {
     "name": "stdout",
     "output_type": "stream",
     "text": [
      "Count of missing values:\n",
      "ID                                         0\n",
      "Gender                                     0\n",
      "DOB                                       15\n",
      "Lead_Creation_Date                         0\n",
      "City_Code                                814\n",
      "City_Category                            814\n",
      "Employer_Code                           4018\n",
      "Employer_Category1                      4018\n",
      "Employer_Category2                      4298\n",
      "Monthly_Income                             0\n",
      "Customer_Existing_Primary_Bank_Code     9391\n",
      "Primary_Bank_Type                       9391\n",
      "Contacted                                  0\n",
      "Source                                     0\n",
      "Source_Category                            0\n",
      "Existing_EMI                              51\n",
      "Loan_Amount                            27709\n",
      "Loan_Period                            27709\n",
      "Interest_Rate                          47437\n",
      "EMI                                    47437\n",
      "Var1                                       0\n",
      "Approved                                   0\n",
      "dtype: int64\n"
     ]
    }
   ],
   "source": [
    "mv=data.isnull().sum() # Get the count of missing values\n",
    "print(f'Count of missing values:\\n{mv}')"
   ]
  },
  {
   "cell_type": "markdown",
   "id": "297b7100-cc8f-409f-9e8f-468e06501bef",
   "metadata": {},
   "source": [
    "##### Encoding Selected columns"
   ]
  },
  {
   "cell_type": "code",
   "execution_count": 34,
   "id": "0bf89575-8c95-414f-beaa-29751e14689a",
   "metadata": {},
   "outputs": [
    {
     "name": "stdout",
     "output_type": "stream",
     "text": [
      "                ID  Gender       DOB Lead_Creation_Date City_Code  \\\n",
      "0  APPC90493171225       0  23/07/79           15/07/16    C10001   \n",
      "1  APPD40611263344       1  07/12/86           04/07/16    C10003   \n",
      "2  APPE70289249423       1  10/12/82           19/07/16    C10125   \n",
      "3  APPF80273865537       1  30/01/89           09/07/16    C10477   \n",
      "4  APPG60994436641       1  19/04/85           20/07/16    C10002   \n",
      "\n",
      "   City_Category Employer_Code  Employer_Category1  Employer_Category2  \\\n",
      "0              0    COM0044082                   0                 4.0   \n",
      "1              0    COM0000002                   2                 1.0   \n",
      "2              2    COM0005267                   2                 4.0   \n",
      "3              2    COM0004143                   0                 4.0   \n",
      "4              0    COM0001781                   0                 4.0   \n",
      "\n",
      "   Monthly_Income  ... Contacted Source  Source_Category Existing_EMI  \\\n",
      "0          2000.0  ...         0   S122                6          0.0   \n",
      "1          3500.0  ...         1   S122                6          0.0   \n",
      "2          2250.0  ...         1   S143                1          0.0   \n",
      "3          3500.0  ...         1   S143                1          0.0   \n",
      "4         10000.0  ...         1   S134                1       2500.0   \n",
      "\n",
      "   Loan_Amount  Loan_Period  Interest_Rate    EMI  Var1  Approved  \n",
      "0          NaN          NaN            NaN    NaN     0         0  \n",
      "1      20000.0          2.0          13.25  953.0    10         0  \n",
      "2      45000.0          4.0            NaN    NaN     0         0  \n",
      "3      92000.0          5.0            NaN    NaN     7         0  \n",
      "4      50000.0          2.0            NaN    NaN    10         0  \n",
      "\n",
      "[5 rows x 22 columns]\n"
     ]
    }
   ],
   "source": [
    "# Specify the columns you want to encode\n",
    "columns_to_encode = ['Gender', 'City_Category', 'Employer_Category1', 'Contacted','Source_Category']  # Update as needed\n",
    "\n",
    "# Initialize LabelEncoder\n",
    "encoder = LabelEncoder()\n",
    "\n",
    "# Apply Label Encoding only to selected columns\n",
    "for col in columns_to_encode:\n",
    "    data[col] = encoder.fit_transform(data[col].astype(str))  # Convert to string to handle NaN values\n",
    "\n",
    "# Display the first few rows of the updated dataset\n",
    "print(data.head())"
   ]
  },
  {
   "cell_type": "markdown",
   "id": "a5f5182a-34ac-40de-aa89-c55d3c2ae914",
   "metadata": {},
   "source": [
    "##### Fill missing values in the \"Loan_Amount\" column with the median "
   ]
  },
  {
   "cell_type": "code",
   "execution_count": 39,
   "id": "5adfc26e-376a-4324-aa2f-c2cd3781af9d",
   "metadata": {},
   "outputs": [],
   "source": [
    "# Asign median to missing value in 'Loan_Amount'\n",
    "data['Loan_Amount']=data['Loan_Amount'].fillna(data['Loan_Amount'].mean()) "
   ]
  },
  {
   "cell_type": "markdown",
   "id": "249d2faf-afbe-4edb-9449-c86f7e0de249",
   "metadata": {},
   "source": [
    "##### Fill missing values in \n",
    "##### Employer_Category1,Employer_Category2,Primary_Bank_Type,Customer_Existing_Primary_Bank_Code\n",
    "##### columns with the median "
   ]
  },
  {
   "cell_type": "code",
   "execution_count": 46,
   "id": "eb54a9b5-2c05-45b3-a854-9e76ece84ab7",
   "metadata": {},
   "outputs": [],
   "source": [
    "# Specify the columns you want \n",
    "columns = ['Employer_Category1', 'Employer_Category2', 'Primary_Bank_Type', 'Customer_Existing_Primary_Bank_Code']  \n",
    "\n",
    "# Apply mode only to selected columns\n",
    "for col in columns:\n",
    "    data[col]=data[col].fillna(data[col].mode()[0])\n"
   ]
  },
  {
   "cell_type": "markdown",
   "id": "8156d0c3-7abb-4a9e-9570-e6014d10445e",
   "metadata": {},
   "source": [
    "##### Fill missing values in Loan_Period,Interest_Rate,EMI,Existing_EMI column with the mean"
   ]
  },
  {
   "cell_type": "code",
   "execution_count": 49,
   "id": "0e300dc9-1c0d-4bae-bbd6-6fca704e9729",
   "metadata": {},
   "outputs": [
    {
     "name": "stdout",
     "output_type": "stream",
     "text": [
      "                ID  Gender       DOB Lead_Creation_Date City_Code  \\\n",
      "0  APPC90493171225       0  23/07/79           15/07/16    C10001   \n",
      "1  APPD40611263344       1  07/12/86           04/07/16    C10003   \n",
      "2  APPE70289249423       1  10/12/82           19/07/16    C10125   \n",
      "3  APPF80273865537       1  30/01/89           09/07/16    C10477   \n",
      "4  APPG60994436641       1  19/04/85           20/07/16    C10002   \n",
      "\n",
      "   City_Category Employer_Code  Employer_Category1  Employer_Category2  \\\n",
      "0              0    COM0044082                   0                 4.0   \n",
      "1              0    COM0000002                   2                 1.0   \n",
      "2              2    COM0005267                   2                 4.0   \n",
      "3              2    COM0004143                   0                 4.0   \n",
      "4              0    COM0001781                   0                 4.0   \n",
      "\n",
      "   Monthly_Income  ... Contacted Source  Source_Category Existing_EMI  \\\n",
      "0          2000.0  ...         0   S122                6          0.0   \n",
      "1          3500.0  ...         1   S122                6          0.0   \n",
      "2          2250.0  ...         1   S143                1          0.0   \n",
      "3          3500.0  ...         1   S143                1          0.0   \n",
      "4         10000.0  ...         1   S134                1       2500.0   \n",
      "\n",
      "    Loan_Amount  Loan_Period  Interest_Rate          EMI  Var1  Approved  \n",
      "0  39429.982859     3.890629       19.21357  1101.466242     0         0  \n",
      "1  20000.000000     2.000000       13.25000   953.000000    10         0  \n",
      "2  45000.000000     4.000000       19.21357  1101.466242     0         0  \n",
      "3  92000.000000     5.000000       19.21357  1101.466242     7         0  \n",
      "4  50000.000000     2.000000       19.21357  1101.466242    10         0  \n",
      "\n",
      "[5 rows x 22 columns]\n"
     ]
    }
   ],
   "source": [
    "# Specify the columns you want \n",
    "columns = ['Loan_Period', 'Interest_Rate', 'EMI', 'Existing_EMI']  \n",
    "\n",
    "# Apply mode only to selected columns\n",
    "for col in columns:\n",
    "    data[col]=data[col].fillna(data[col].mean())\n",
    "print(data.head())\n"
   ]
  },
  {
   "cell_type": "markdown",
   "id": "d8b08314-eceb-4807-8df9-58da49f3511d",
   "metadata": {},
   "source": [
    "##### Remvove all NA Values"
   ]
  },
  {
   "cell_type": "code",
   "execution_count": 52,
   "id": "c595a1d3-629c-4d56-b556-8742883134d0",
   "metadata": {},
   "outputs": [
    {
     "name": "stdout",
     "output_type": "stream",
     "text": [
      "Before remove NA values from dataset: (69713, 22)\n",
      "After remove NA values from dataset: (65338, 22)\n"
     ]
    }
   ],
   "source": [
    "print(f\"Before remove NA values from dataset: {data.shape}\")\n",
    "# Remove rows with any missing values\n",
    "data = data.dropna()\n",
    "print(f\"After remove NA values from dataset: {data.shape}\")"
   ]
  },
  {
   "cell_type": "markdown",
   "id": "01cbe1ee-47c3-4187-a3c6-45065621d37c",
   "metadata": {},
   "source": [
    "##### Check missing values again"
   ]
  },
  {
   "cell_type": "code",
   "execution_count": 55,
   "id": "7c420bc2-008c-4441-bf6d-652de7febbe6",
   "metadata": {},
   "outputs": [
    {
     "name": "stdout",
     "output_type": "stream",
     "text": [
      "Count of missing values:\n",
      "ID                                     0\n",
      "Gender                                 0\n",
      "DOB                                    0\n",
      "Lead_Creation_Date                     0\n",
      "City_Code                              0\n",
      "City_Category                          0\n",
      "Employer_Code                          0\n",
      "Employer_Category1                     0\n",
      "Employer_Category2                     0\n",
      "Monthly_Income                         0\n",
      "Customer_Existing_Primary_Bank_Code    0\n",
      "Primary_Bank_Type                      0\n",
      "Contacted                              0\n",
      "Source                                 0\n",
      "Source_Category                        0\n",
      "Existing_EMI                           0\n",
      "Loan_Amount                            0\n",
      "Loan_Period                            0\n",
      "Interest_Rate                          0\n",
      "EMI                                    0\n",
      "Var1                                   0\n",
      "Approved                               0\n",
      "dtype: int64\n"
     ]
    }
   ],
   "source": [
    "mv=data.isnull().sum() # Check missing values again\n",
    "print(f'Count of missing values:\\n{mv}')"
   ]
  },
  {
   "cell_type": "markdown",
   "id": "34b40333-7e83-4494-be24-bbba50c27ae2",
   "metadata": {},
   "source": [
    "##### Convert the \"Monthly_Income\" column to integer data type"
   ]
  },
  {
   "cell_type": "code",
   "execution_count": 58,
   "id": "93595143-10af-4bfb-b263-c37be66f9d59",
   "metadata": {},
   "outputs": [
    {
     "name": "stdout",
     "output_type": "stream",
     "text": [
      "float64\n"
     ]
    }
   ],
   "source": [
    "print(data['Monthly_Income'].dtype) # Display current data type\n",
    "data['Monthly_Income'] = data['Monthly_Income'].astype(int) # Convert to integer"
   ]
  },
  {
   "cell_type": "code",
   "execution_count": 60,
   "id": "f4b7c292-6d52-478e-8891-72db830ab25a",
   "metadata": {},
   "outputs": [
    {
     "name": "stdout",
     "output_type": "stream",
     "text": [
      "int32\n"
     ]
    }
   ],
   "source": [
    "print(data['Monthly_Income'].dtype) "
   ]
  },
  {
   "cell_type": "markdown",
   "id": "9db02afb-a547-4d1b-9a4b-480e6bfb7b1a",
   "metadata": {},
   "source": [
    "##### Remove all duplicate rows from the dataset"
   ]
  },
  {
   "cell_type": "code",
   "execution_count": 63,
   "id": "82f94a05-f5dc-400f-87f7-af006cc9424b",
   "metadata": {},
   "outputs": [],
   "source": [
    "data = data.drop_duplicates()"
   ]
  },
  {
   "cell_type": "markdown",
   "id": "a166448e-ddf1-4744-b58c-0af75b499eca",
   "metadata": {},
   "source": [
    "##### Removing Outliers"
   ]
  },
  {
   "cell_type": "code",
   "execution_count": 66,
   "id": "7f24d341-b4ab-4535-a5f5-2c4ef6f45905",
   "metadata": {},
   "outputs": [
    {
     "name": "stdout",
     "output_type": "stream",
     "text": [
      "Original dataset size: (65338, 22)\n",
      "Cleaned dataset size: (26795, 22)\n"
     ]
    }
   ],
   "source": [
    "import numpy as np # library use to numerical computing\n",
    "# Display before row count\n",
    "print(f\"Original dataset size: {data.shape}\")\n",
    "\n",
    "# Identify numerical columns\n",
    "num_cols = data.select_dtypes(include=[np.number]).columns.tolist()\n",
    "\n",
    "# Define function to remove outliers using IQR\n",
    "def remove_outliers_iqr(data, columns):\n",
    "    Q1 = data[columns].quantile(0.25)\n",
    "    Q3 = data[columns].quantile(0.75)\n",
    "    IQR = Q3 - Q1\n",
    "\n",
    "    # Define lower and upper bounds\n",
    "    lower_bound = Q1 - 1.5 * IQR\n",
    "    upper_bound = Q3 + 1.5 * IQR\n",
    "\n",
    "    # Remove outliers\n",
    "    cleaned_data = data[~((data[columns] < lower_bound) | (data[columns] > upper_bound)).any(axis=1)]\n",
    "    \n",
    "    return cleaned_data\n",
    "\n",
    "# Remove outliers from numerical columns\n",
    "data = remove_outliers_iqr(data, num_cols)\n",
    "\n",
    "# Display after row counts\n",
    "print(f\"Cleaned dataset size: {data.shape}\")"
   ]
  },
  {
   "cell_type": "markdown",
   "id": "fcccca57-6b25-48f2-8c08-54b028f38807",
   "metadata": {},
   "source": [
    "##### One-hot encoding"
   ]
  },
  {
   "cell_type": "code",
   "execution_count": 69,
   "id": "99fc0c40-2307-4f3a-bb5e-60d2d51b3c8b",
   "metadata": {},
   "outputs": [
    {
     "name": "stdout",
     "output_type": "stream",
     "text": [
      "    Gender  City_Category  Employer_Category1  Employer_Category2  \\\n",
      "0        0              0                   0                 4.0   \n",
      "2        1              2                   2                 4.0   \n",
      "5        0              2                   0                 4.0   \n",
      "9        0              1                   0                 4.0   \n",
      "12       0              0                   2                 4.0   \n",
      "\n",
      "    Monthly_Income  Contacted  Source_Category  Existing_EMI   Loan_Amount  \\\n",
      "0             2000          0                6           0.0  39429.982859   \n",
      "2             2250          1                1           0.0  45000.000000   \n",
      "5             7000          0                1           0.0  39429.982859   \n",
      "9             2500          0                1           0.0  39429.982859   \n",
      "12            2000          0                1           0.0  39429.982859   \n",
      "\n",
      "    Loan_Period  ...  Source_S144  Source_S151  Source_S153  Source_S156  \\\n",
      "0      3.890629  ...        False        False        False        False   \n",
      "2      4.000000  ...        False        False        False        False   \n",
      "5      3.890629  ...        False        False        False        False   \n",
      "9      3.890629  ...        False        False        False        False   \n",
      "12     3.890629  ...        False        False        False        False   \n",
      "\n",
      "    Source_S157  Source_S158  Source_S159  Source_S160  Source_S161  \\\n",
      "0         False        False        False        False        False   \n",
      "2         False        False        False        False        False   \n",
      "5         False        False        False        False        False   \n",
      "9         False        False        False        False        False   \n",
      "12        False        False        False        False        False   \n",
      "\n",
      "    Source_S162  \n",
      "0         False  \n",
      "2         False  \n",
      "5         False  \n",
      "9         False  \n",
      "12        False  \n",
      "\n",
      "[5 rows x 54820 columns]\n"
     ]
    }
   ],
   "source": [
    "# Identify categorical columns\n",
    "categorical_cols = data.select_dtypes(include=['object']).columns.tolist()\n",
    "\n",
    "# Perform one-hot encoding\n",
    "encoded_df = pd.get_dummies(data, columns=categorical_cols, drop_first=True)\n",
    "\n",
    "# Display the transformed dataset\n",
    "print(encoded_df.head())"
   ]
  },
  {
   "cell_type": "code",
   "execution_count": 71,
   "id": "92e05359-e8a7-4abe-a12b-451329df1eba",
   "metadata": {},
   "outputs": [
    {
     "name": "stdout",
     "output_type": "stream",
     "text": [
      "                 ID  Gender       DOB Lead_Creation_Date City_Code  \\\n",
      "0   APPC90493171225       0  23/07/79           15/07/16    C10001   \n",
      "2   APPE70289249423       1  10/12/82           19/07/16    C10125   \n",
      "5   APPI90914237819       0  23/12/88           01/07/16    C10402   \n",
      "9   APPN60714112334       0  13/12/90           02/07/16    C10014   \n",
      "12  APPT10286486907       0  08/03/91           01/07/16    C10001   \n",
      "\n",
      "    City_Category Employer_Code  Employer_Category1  Employer_Category2  \\\n",
      "0               0    COM0044082                   0                 4.0   \n",
      "2               2    COM0005267                   2                 4.0   \n",
      "5               2    COM0007740                   0                 4.0   \n",
      "9               1    COM0042212                   0                 4.0   \n",
      "12              0    COM0003151                   2                 4.0   \n",
      "\n",
      "    Monthly_Income  ... Contacted Source  Source_Category Existing_EMI  \\\n",
      "0             2000  ...         0   S122                6          0.0   \n",
      "2             2250  ...         1   S143                1          0.0   \n",
      "5             7000  ...         0   S133                1          0.0   \n",
      "9             2500  ...         0   S122                1          0.0   \n",
      "12            2000  ...         0   S122                1          0.0   \n",
      "\n",
      "     Loan_Amount  Loan_Period  Interest_Rate          EMI  Var1  Approved  \n",
      "0   39429.982859     3.890629       19.21357  1101.466242     0         0  \n",
      "2   45000.000000     4.000000       19.21357  1101.466242     0         0  \n",
      "5   39429.982859     3.890629       19.21357  1101.466242     0         0  \n",
      "9   39429.982859     3.890629       19.21357  1101.466242     0         0  \n",
      "12  39429.982859     3.890629       19.21357  1101.466242     0         0  \n",
      "\n",
      "[5 rows x 22 columns]\n"
     ]
    }
   ],
   "source": [
    "print(data.head())"
   ]
  },
  {
   "cell_type": "markdown",
   "id": "51d2098c-1add-49fe-96d5-874a4d20f4a6",
   "metadata": {},
   "source": [
    "##### Save the Cleaned Dataset"
   ]
  },
  {
   "cell_type": "code",
   "execution_count": 74,
   "id": "2737ab72-6e61-4a30-90be-1a68242af831",
   "metadata": {},
   "outputs": [],
   "source": [
    "data.to_csv('CleanedDataSet.csv', index=False) # Save as csv"
   ]
  }
 ],
 "metadata": {
  "kernelspec": {
   "display_name": "Python 3 (ipykernel)",
   "language": "python",
   "name": "python3"
  },
  "language_info": {
   "codemirror_mode": {
    "name": "ipython",
    "version": 3
   },
   "file_extension": ".py",
   "mimetype": "text/x-python",
   "name": "python",
   "nbconvert_exporter": "python",
   "pygments_lexer": "ipython3",
   "version": "3.12.4"
  }
 },
 "nbformat": 4,
 "nbformat_minor": 5
}
