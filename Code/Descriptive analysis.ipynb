{
 "cells": [
  {
   "cell_type": "markdown",
   "id": "b4b53758-8499-4bbb-a2a8-4b444e98e859",
   "metadata": {},
   "source": [
    "## Descriptive analysis"
   ]
  },
  {
   "cell_type": "markdown",
   "id": "163fc48d-49c9-40cd-84ef-e5a1f2e29998",
   "metadata": {},
   "source": [
    "#### Import and display dataset"
   ]
  },
  {
   "cell_type": "code",
   "execution_count": 8,
   "id": "72ff0daf-ea8a-4892-9ef5-ee56dbc610d2",
   "metadata": {},
   "outputs": [],
   "source": [
    "import pandas as pd"
   ]
  },
  {
   "cell_type": "code",
   "execution_count": 10,
   "id": "279b462b-d873-4116-868b-0b8c61fa6e5f",
   "metadata": {},
   "outputs": [],
   "source": [
    "data=pd.read_csv(\"CleanedDataSet.csv\")"
   ]
  },
  {
   "cell_type": "code",
   "execution_count": 12,
   "id": "3d57af27-ab79-44aa-9869-e8e31f7e4e84",
   "metadata": {},
   "outputs": [],
   "source": [
    "#Select only numerical columns\n",
    "numeric_data=data.select_dtypes(include=[\"number\"])                                 "
   ]
  },
  {
   "cell_type": "markdown",
   "id": "9958cfe2-c098-4ee3-a2f4-4590b9833064",
   "metadata": {},
   "source": [
    "#### Display summary of dataset"
   ]
  },
  {
   "cell_type": "code",
   "execution_count": 14,
   "id": "304e44fa-af3d-414b-b2c3-df6031269e6a",
   "metadata": {},
   "outputs": [
    {
     "name": "stdout",
     "output_type": "stream",
     "text": [
      "             Gender  City_Category  Employer_Category1  Employer_Category2  \\\n",
      "count  26795.000000   26795.000000        26795.000000             26795.0   \n",
      "mean       0.303303       0.504684            0.623885                 4.0   \n",
      "std        0.459694       0.801864            0.781960                 0.0   \n",
      "min        0.000000       0.000000            0.000000                 4.0   \n",
      "25%        0.000000       0.000000            0.000000                 4.0   \n",
      "50%        0.000000       0.000000            0.000000                 4.0   \n",
      "75%        1.000000       1.000000            1.000000                 4.0   \n",
      "max        1.000000       2.000000            2.000000                 4.0   \n",
      "\n",
      "       Monthly_Income     Contacted  Source_Category  Existing_EMI  \\\n",
      "count    26795.000000  26795.000000     26795.000000  26795.000000   \n",
      "mean      2045.922896      0.346221         3.023325    155.623318   \n",
      "std       1147.490537      0.475774         2.276285    275.112562   \n",
      "min          1.000000      0.000000         0.000000      0.000000   \n",
      "25%       1300.000000      0.000000         1.000000      0.000000   \n",
      "50%       1720.000000      0.000000         2.000000      0.000000   \n",
      "75%       2500.000000      1.000000         6.000000    250.000000   \n",
      "max       7600.000000      1.000000         6.000000   1000.000000   \n",
      "\n",
      "        Loan_Amount   Loan_Period  Interest_Rate           EMI          Var1  \\\n",
      "count  26795.000000  26795.000000   2.679500e+04  2.679500e+04  26795.000000   \n",
      "mean   37620.272280      4.009355   1.921357e+01  1.101466e+03      2.368054   \n",
      "std     7065.485206      0.470602   6.395004e-12  1.068676e-10      3.281432   \n",
      "min    11000.000000      3.000000   1.921357e+01  1.101466e+03      0.000000   \n",
      "25%    39429.982859      3.890629   1.921357e+01  1.101466e+03      0.000000   \n",
      "50%    39429.982859      3.890629   1.921357e+01  1.101466e+03      0.000000   \n",
      "75%    39429.982859      4.000000   1.921357e+01  1.101466e+03      4.000000   \n",
      "max    56000.000000      5.000000   1.921357e+01  1.101466e+03     10.000000   \n",
      "\n",
      "       Approved  \n",
      "count   26795.0  \n",
      "mean        0.0  \n",
      "std         0.0  \n",
      "min         0.0  \n",
      "25%         0.0  \n",
      "50%         0.0  \n",
      "75%         0.0  \n",
      "max         0.0  \n"
     ]
    }
   ],
   "source": [
    "print(data.describe())"
   ]
  },
  {
   "cell_type": "markdown",
   "id": "3bc93d8c-9067-4720-b822-9e0a79a4eb31",
   "metadata": {},
   "source": [
    "#### Mode"
   ]
  },
  {
   "cell_type": "code",
   "execution_count": 16,
   "id": "a2c131e3-2646-46c5-a33d-9a178ed1d085",
   "metadata": {},
   "outputs": [
    {
     "name": "stdout",
     "output_type": "stream",
     "text": [
      "\n",
      "Mode:\n",
      "ID                                     APPA10007179048\n",
      "Gender                                             0.0\n",
      "DOB                                           03/03/71\n",
      "Lead_Creation_Date                            30/09/16\n",
      "City_Code                                       C10003\n",
      "City_Category                                      0.0\n",
      "Employer_Code                               COM0000014\n",
      "Employer_Category1                                 0.0\n",
      "Employer_Category2                                 4.0\n",
      "Monthly_Income                                  1500.0\n",
      "Customer_Existing_Primary_Bank_Code               B001\n",
      "Primary_Bank_Type                                    P\n",
      "Contacted                                          0.0\n",
      "Source                                            S122\n",
      "Source_Category                                    1.0\n",
      "Existing_EMI                                       0.0\n",
      "Loan_Amount                               39429.982859\n",
      "Loan_Period                                   3.890629\n",
      "Interest_Rate                                 19.21357\n",
      "EMI                                        1101.466242\n",
      "Var1                                               0.0\n",
      "Approved                                           0.0\n",
      "Name: 0, dtype: object\n"
     ]
    }
   ],
   "source": [
    "print(\"\\nMode:\")\n",
    "print(data.mode().iloc[0]) \n"
   ]
  },
  {
   "cell_type": "markdown",
   "id": "71cb2b35-7558-4939-b795-550c038ec5eb",
   "metadata": {},
   "source": [
    "#### Variance (For Numeric Columns)\n"
   ]
  },
  {
   "cell_type": "code",
   "execution_count": 18,
   "id": "a109fa46-2685-49c1-b2f7-6922d1e813cc",
   "metadata": {},
   "outputs": [
    {
     "name": "stdout",
     "output_type": "stream",
     "text": [
      "\n",
      "Variance:\n",
      "Gender                2.113181e-01\n",
      "City_Category         6.429858e-01\n",
      "Employer_Category1    6.114620e-01\n",
      "Employer_Category2    0.000000e+00\n",
      "Monthly_Income        1.316735e+06\n",
      "Contacted             2.263606e-01\n",
      "Source_Category       5.181474e+00\n",
      "Existing_EMI          7.568692e+04\n",
      "Loan_Amount           4.992108e+07\n",
      "Loan_Period           2.214667e-01\n",
      "Interest_Rate         4.089608e-23\n",
      "EMI                   1.142069e-20\n",
      "Var1                  1.076779e+01\n",
      "Approved              0.000000e+00\n",
      "dtype: float64\n"
     ]
    }
   ],
   "source": [
    "print(\"\\nVariance:\")\n",
    "print(numeric_data.var())\n"
   ]
  },
  {
   "cell_type": "markdown",
   "id": "b84263e2-069e-47e0-862e-fcdfce5bf089",
   "metadata": {},
   "source": [
    "#### Interquartile Range (IQR)\n"
   ]
  },
  {
   "cell_type": "code",
   "execution_count": 20,
   "id": "d45855f4-0b7e-439b-bab9-9be6dd64c4da",
   "metadata": {},
   "outputs": [
    {
     "name": "stdout",
     "output_type": "stream",
     "text": [
      "\n",
      "Interquartile Range (IQR):\n",
      "Gender                   1.000000\n",
      "City_Category            1.000000\n",
      "Employer_Category1       1.000000\n",
      "Employer_Category2       0.000000\n",
      "Monthly_Income        1200.000000\n",
      "Contacted                1.000000\n",
      "Source_Category          5.000000\n",
      "Existing_EMI           250.000000\n",
      "Loan_Amount              0.000000\n",
      "Loan_Period              0.109371\n",
      "Interest_Rate            0.000000\n",
      "EMI                      0.000000\n",
      "Var1                     4.000000\n",
      "Approved                 0.000000\n",
      "dtype: float64\n"
     ]
    }
   ],
   "source": [
    "Q1 = numeric_data.quantile(0.25)\n",
    "Q3 = numeric_data.quantile(0.75)\n",
    "IQR = Q3 - Q1\n",
    "print(\"\\nInterquartile Range (IQR):\")\n",
    "print(IQR)"
   ]
  },
  {
   "cell_type": "markdown",
   "id": "ccfaecd0-03a6-483d-bb94-2688d5c8a6da",
   "metadata": {},
   "source": [
    "#### Range (Max - Min)\n"
   ]
  },
  {
   "cell_type": "code",
   "execution_count": 22,
   "id": "931d35ed-93d2-442d-9c5a-ec5f8d80acf7",
   "metadata": {},
   "outputs": [
    {
     "name": "stdout",
     "output_type": "stream",
     "text": [
      "\n",
      "Range (Max - Min):\n",
      "Gender                    1.0\n",
      "City_Category             2.0\n",
      "Employer_Category1        2.0\n",
      "Employer_Category2        0.0\n",
      "Monthly_Income         7599.0\n",
      "Contacted                 1.0\n",
      "Source_Category           6.0\n",
      "Existing_EMI           1000.0\n",
      "Loan_Amount           45000.0\n",
      "Loan_Period               2.0\n",
      "Interest_Rate             0.0\n",
      "EMI                       0.0\n",
      "Var1                     10.0\n",
      "Approved                  0.0\n",
      "dtype: float64\n"
     ]
    }
   ],
   "source": [
    "range_values = numeric_data.max() - numeric_data.min()\n",
    "print(\"\\nRange (Max - Min):\")\n",
    "print(range_values)"
   ]
  }
 ],
 "metadata": {
  "kernelspec": {
   "display_name": "Python 3 (ipykernel)",
   "language": "python",
   "name": "python3"
  },
  "language_info": {
   "codemirror_mode": {
    "name": "ipython",
    "version": 3
   },
   "file_extension": ".py",
   "mimetype": "text/x-python",
   "name": "python",
   "nbconvert_exporter": "python",
   "pygments_lexer": "ipython3",
   "version": "3.12.4"
  }
 },
 "nbformat": 4,
 "nbformat_minor": 5
}
